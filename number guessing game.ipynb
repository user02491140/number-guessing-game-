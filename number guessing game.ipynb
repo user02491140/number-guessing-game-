{
 "cells": [
  {
   "cell_type": "code",
   "execution_count": 137,
   "id": "8bb02dd7-092d-4b4b-9a33-d5a7ba345c2f",
   "metadata": {},
   "outputs": [
    {
     "name": "stdout",
     "output_type": "stream",
     "text": [
      "welcome to the number guessing game!\n",
      "i am thinking of number between 1 and 100.\n",
      "\n",
      "Please select the difficulty level\n",
      "        \n",
      "        1. Easy(10 chances)\n",
      "        2. Medium (5 chances)\n",
      "        3. Hard (3 chances)\n",
      "        \n"
     ]
    },
    {
     "name": "stdin",
     "output_type": "stream",
     "text": [
      "enter your chosen difficulty level: 3\n"
     ]
    },
    {
     "name": "stdout",
     "output_type": "stream",
     "text": [
      "great you have selected hard difficulty\n",
      "\n",
      "you have 3 chances to guess it\n",
      "\n",
      "Let's start the game!\n",
      "\n"
     ]
    },
    {
     "name": "stdin",
     "output_type": "stream",
     "text": [
      "enter your guess: 10\n"
     ]
    },
    {
     "name": "stdout",
     "output_type": "stream",
     "text": [
      "wrong, try again\n",
      "you have 2 guesses left\n",
      "\n"
     ]
    },
    {
     "name": "stdin",
     "output_type": "stream",
     "text": [
      "enter your guess: 59\n"
     ]
    },
    {
     "name": "stdout",
     "output_type": "stream",
     "text": [
      "wrong, try again\n",
      "you have 1 guesses left\n",
      "\n"
     ]
    },
    {
     "name": "stdin",
     "output_type": "stream",
     "text": [
      "enter your guess: 82\n"
     ]
    },
    {
     "name": "stdout",
     "output_type": "stream",
     "text": [
      "wrong, try again\n",
      "you have 0 guesses left\n",
      "\n",
      "Sorry, you didn't guess the number. The number was 21\n"
     ]
    }
   ],
   "source": [
    "print('welcome to the number guessing game!')\n",
    "print('i am thinking of number between 1 and 100.')\n",
    "\n",
    "easy_d = 10\n",
    "medium_d = 5\n",
    "hard_d = 3\n",
    "\n",
    "print()\n",
    "print(\"\"\"Please select the difficulty level\n",
    "        \n",
    "        1. Easy({} chances)\n",
    "        2. Medium ({} chances)\n",
    "        3. Hard ({} chances)\n",
    "        \"\"\".format(easy_d, medium_d, hard_d))\n",
    "\n",
    "difficulty = int(input('enter your chosen difficulty level:'))\n",
    "\n",
    "\n",
    "if difficulty == 1:\n",
    "    print('great you have selected easy difficulty')\n",
    "    guesses_a = easy_d\n",
    "elif difficulty == 2:\n",
    "    print ('great you have selected medium difficulty')\n",
    "    guesses_a = medium_d \n",
    "elif difficulty == 3: \n",
    "    print('great you have selected hard difficulty')\n",
    "    guesses_a = hard_d\n",
    "else:\n",
    "    print ('invalid choice, defaulting to easy')\n",
    "    guesses_a = easy_d\n",
    "    \n",
    "print()\n",
    "print('you have {} chances to guess it'.format(guesses_a))\n",
    "print()\n",
    "print(\"Let's start the game!\")\n",
    "\n",
    "import numpy as np\n",
    "number = np.random.randint(1,100)\n",
    "print()\n",
    "\n",
    "attempts = 0 \n",
    "\n",
    "while attempts < guesses_a:\n",
    "   guess = int(input('enter your guess:'))\n",
    "   attempts +=1\n",
    "   if guess == number:\n",
    "      print(\"congratulations, you guessed the number in {} attempts.\".format(attempts))\n",
    "      break\n",
    "   else:\n",
    "      print('wrong, try again') \n",
    "      print('you have {} guesses left'.format(guesses_a - attempts))\n",
    "      print()\n",
    "       \n",
    "if attempts == guesses_a:\n",
    "    print(\"Sorry, you didn't guess the number. The number was {}\".format(number))"
   ]
  },
  {
   "cell_type": "code",
   "execution_count": null,
   "id": "7ecba48b-41d5-43b8-830b-09f0982dca00",
   "metadata": {},
   "outputs": [],
   "source": []
  }
 ],
 "metadata": {
  "kernelspec": {
   "display_name": "Python [conda env:base] *",
   "language": "python",
   "name": "conda-base-py"
  },
  "language_info": {
   "codemirror_mode": {
    "name": "ipython",
    "version": 3
   },
   "file_extension": ".py",
   "mimetype": "text/x-python",
   "name": "python",
   "nbconvert_exporter": "python",
   "pygments_lexer": "ipython3",
   "version": "3.12.7"
  }
 },
 "nbformat": 4,
 "nbformat_minor": 5
}
